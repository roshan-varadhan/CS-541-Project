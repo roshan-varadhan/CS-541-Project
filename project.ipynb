{
 "cells": [
  {
   "cell_type": "code",
   "execution_count": 27,
   "id": "9e216d24",
   "metadata": {},
   "outputs": [],
   "source": [
    "import pandas as pd\n",
    "import os\n",
    "from dotenv import load_dotenv\n",
    "import requests"
   ]
  },
  {
   "cell_type": "code",
   "execution_count": 28,
   "id": "13e78210",
   "metadata": {},
   "outputs": [],
   "source": [
    "# Load sample dataset (Boston housing dataset)\n",
    "url = 'https://raw.githubusercontent.com/jbrownlee/Datasets/master/housing.csv'\n",
    "columns = ['CRIM', 'ZN', 'INDUS', 'CHAS', 'NOX', \n",
    "           'RM', 'AGE', 'DIS', 'RAD', 'TAX', \n",
    "           'PTRATIO', 'B', 'LSTAT', 'MEDV']\n",
    "\n",
    "df = pd.read_csv(url, header=None, names=columns)"
   ]
  },
  {
   "cell_type": "code",
   "execution_count": 29,
   "id": "cd94784e",
   "metadata": {},
   "outputs": [
    {
     "name": "stdout",
     "output_type": "stream",
     "text": [
      "      CRIM    ZN  INDUS  CHAS    NOX     RM   AGE     DIS  RAD    TAX  \\\n",
      "0  0.00632  18.0   2.31     0  0.538    NaN  65.2  4.0900    1  296.0   \n",
      "1  0.02731   0.0   7.07     0  0.469  6.421  78.9  4.9671    2  242.0   \n",
      "2  0.02729   0.0   7.07     0  0.469  7.185  61.1  4.9671    2  242.0   \n",
      "3  0.03237   0.0   2.18     0  0.458  6.998  45.8  6.0622    3  222.0   \n",
      "4  0.06905   0.0   2.18     0  0.458  7.147  54.2  6.0622    3  222.0   \n",
      "\n",
      "   PTRATIO       B  LSTAT  MEDV  \n",
      "0     15.3  396.90   4.98  24.0  \n",
      "1     17.8  396.90   9.14  21.6  \n",
      "2     17.8  392.83   4.03  34.7  \n",
      "3     18.7  394.63   2.94  33.4  \n",
      "4     18.7  396.90   5.33  36.2  \n"
     ]
    }
   ],
   "source": [
    "# Add artificial missing value (for testing purposes)\n",
    "df.loc[0, 'RM'] = None\n",
    "\n",
    "print(df.head())"
   ]
  },
  {
   "cell_type": "code",
   "execution_count": 31,
   "id": "013868f8",
   "metadata": {},
   "outputs": [],
   "source": [
    "load_dotenv()\n",
    "token = os.getenv(\"HF_TOKEN\")\n",
    "\n",
    "API_URL = \"https://api-inference.huggingface.co/models/HuggingFaceH4/zephyr-7b-beta\"\n",
    "headers = {\"Authorization\": f\"Bearer {token}\"}\n",
    "\n",
    "# Load free Hugging Face model\n",
    "# pipe = pipeline(\"text-generation\",\n",
    "#                 model=\"HuggingFaceH4/zephyr-7b-beta\",\n",
    "#                 token=token)"
   ]
  },
  {
   "cell_type": "code",
   "execution_count": 32,
   "id": "a7698132",
   "metadata": {},
   "outputs": [],
   "source": [
    "def create_prompt(row):\n",
    "    prompt = f\"\"\"\n",
    "    Analyze the following data row and identify any data quality issues, such as missing or inconsistent values. \n",
    "    Clearly state each issue and its location.\n",
    "\n",
    "    Data row:\n",
    "    {row.to_dict()}\n",
    "\n",
    "    Issues:\n",
    "    \"\"\"\n",
    "    return prompt\n"
   ]
  },
  {
   "cell_type": "code",
   "execution_count": 33,
   "id": "0a0ead1e",
   "metadata": {},
   "outputs": [],
   "source": [
    "def query_hf(payload):\n",
    "    response = requests.post(API_URL, headers=headers, json=payload)\n",
    "    return response.json()"
   ]
  },
  {
   "cell_type": "code",
   "execution_count": 35,
   "id": "6cee8b13",
   "metadata": {},
   "outputs": [],
   "source": [
    "def check_quality(row):\n",
    "    prompt = create_prompt(row)\n",
    "    output = query_hf({\n",
    "        \"inputs\": prompt,\n",
    "        \"parameters\": {\"max_new_tokens\": 100, \"temperature\": 0.2}\n",
    "    })\n",
    "\n",
    "    generated_text = output[0]['generated_text']\n",
    "    issues = generated_text.split('Issues:')[-1].strip()\n",
    "    return issues"
   ]
  },
  {
   "cell_type": "code",
   "execution_count": 37,
   "id": "51df2688",
   "metadata": {},
   "outputs": [
    {
     "name": "stdout",
     "output_type": "stream",
     "text": [
      "Detected issues: 1. Missing value for 'RM' (located at index 'RM')\n",
      "    2. Inconsistent value for 'RM' as it should be a numerical value, but is currently 'nan' (located at index 'RM')\n",
      "    3. Inconsistent value for 'DIS' as it should be a numerical value, but is currently '4.09' (located at index 'DIS')\n",
      "    4. Inconsistent value for 'MEDV\n"
     ]
    }
   ],
   "source": [
    "# Test with first row\n",
    "row = df.iloc[0]\n",
    "issues = check_quality(row)\n",
    "print(\"Detected issues:\", issues)"
   ]
  },
  {
   "cell_type": "code",
   "execution_count": 38,
   "id": "72a4d2bb",
   "metadata": {},
   "outputs": [
    {
     "name": "stdout",
     "output_type": "stream",
     "text": [
      "Row 0:\n",
      "1. Missing value for 'RM' (located at index 'RM')\n",
      "    2. Inconsistent value for 'RM' as it should be a numerical value, but is currently 'nan' (located at index 'RM')\n",
      "    3. Inconsistent value for 'DIS' as it should be a numerical value, but is currently '4.09' (located at index 'DIS')\n",
      "    4. Inconsistent value for 'MEDV\n",
      "----------------------------------------\n",
      "Row 1:\n",
      "1. Missing value: 'ZN' is missing a value. It should be a numerical value, but instead, it is 0.0. This could be due to a mistake in data entry or a missing value in the original dataset.\n",
      "    2. Inconsistent value: 'CHAS' is also missing a value, but in this case, it is represented by a 0.0 instead of a null value. This could be a mistake in data cleaning or form\n",
      "----------------------------------------\n",
      "Row 2:\n",
      "1. Missing value: 'ZN' is missing a value. This is located in the second column of the dictionary.\n",
      "    2. Inconsistent value: 'CHAS' should be either 0 or 1, but it is currently 0.0. This is located in the third column of the dictionary.\n",
      "    3. Inconsistent value: 'NOX' should be a numerical value, but it is currently a decimal value (0.469\n",
      "----------------------------------------\n",
      "Row 3:\n",
      "1. Missing value: 'ZN' is missing a value. Its location is in the dictionary key 'ZN'.\n",
      "    2. Inconsistent value: 'CHAS' should be either 0 or 1, but it is 0.0, which is a floating-point number. Its location is in the dictionary key 'CHAS'.\n",
      "    3. Inconsistent value: 'B' is a float value instead of an integer. Its location is in\n",
      "----------------------------------------\n",
      "Row 4:\n",
      "1. Missing value: 'ZN' is missing a value. This is located in the second column of the row.\n",
      "    2. Inconsistent value: 'CHAS' is a boolean variable that should be either 0 or 1. However, the value in this row is 0.0, which is not a valid boolean value. This is located in the fourth column of the row.\n",
      "    3. Inconsistent value: 'NOX' should be\n",
      "----------------------------------------\n",
      "Row 5:\n",
      "1. Missing value: 'ZN' is missing a value. This is located in the second column of the dictionary.\n",
      "    2. Inconsistent value: 'CHAS' has a value of 0.0, but this variable is a binary feature that should take a value of either 0 or 1. This is located in the third column of the dictionary.\n",
      "    3. Inconsistent value: 'B' has a value of 394.\n",
      "----------------------------------------\n",
      "Row 6:\n",
      "1. Missing value: 'CHAS' should be a binary value (0 or 1), but it is 0.0, which is not a valid value. Location: 'CHAS' column.\n",
      "    2. Inconsistent value: 'B' should be a numerical value, but it is 395.6, which is not a valid numerical value. Location: 'B' column.\n",
      "    3. Inconsistent value: 'LSTAT'\n",
      "----------------------------------------\n",
      "Row 7:\n",
      "1. Missing value: 'CHAS' should be a binary variable (0 or 1) indicating whether a given parcel is located in a region with Charles River (the river separating Cambridge from Boston) or not. However, the value for 'CHAS' in this row is 0.0, which is not a valid binary value. This could be a data entry error or a missing value, as the original dataset does not have any parcel located in the Charles River\n",
      "----------------------------------------\n",
      "Row 8:\n",
      "1. Missing value: The 'MEDV' value is 16.5, which is not a valid numerical value for median house prices. This could be due to an error in data entry or a mistake in the data source. Location: 'MEDV' key in the dictionary.\n",
      "    2. Inconsistent value: The 'AGE' value is 100.0, which is an unusually high value for the age of a house. This could be due\n",
      "----------------------------------------\n",
      "Row 9:\n",
      "1. Missing value: 'CHAS' should be a binary variable (0 or 1) indicating whether a particular location is in a 'CHAS'-protected area. However, the value for this variable is 0.0, which is not a valid binary value. This issue is located in the 'CHAS' key-value pair.\n",
      "    2. Inconsistent value: The 'RM' value is 6.004, which is not a whole\n",
      "----------------------------------------\n"
     ]
    }
   ],
   "source": [
    "import time\n",
    "\n",
    "for idx, row in df.head(10).iterrows():\n",
    "    print(f\"Row {idx}:\")\n",
    "    print(check_quality(row))\n",
    "    print('-' * 40)\n",
    "    time.sleep(1)  # to avoid rate limits\n"
   ]
  },
  {
   "cell_type": "code",
   "execution_count": 39,
   "id": "fcd70d39",
   "metadata": {},
   "outputs": [],
   "source": [
    "results = []\n",
    "\n",
    "for idx, row in df.head(10).iterrows():\n",
    "    issues = check_quality(row)\n",
    "    results.append({'index': idx, 'issues': issues})\n",
    "    time.sleep(1)\n",
    "\n",
    "results_df = pd.DataFrame(results)\n",
    "results_df.to_csv(\"llm_data_quality_results.csv\", index=False)\n"
   ]
  }
 ],
 "metadata": {
  "kernelspec": {
   "display_name": "llm-data-quality",
   "language": "python",
   "name": "python3"
  },
  "language_info": {
   "codemirror_mode": {
    "name": "ipython",
    "version": 3
   },
   "file_extension": ".py",
   "mimetype": "text/x-python",
   "name": "python",
   "nbconvert_exporter": "python",
   "pygments_lexer": "ipython3",
   "version": "3.11.4"
  }
 },
 "nbformat": 4,
 "nbformat_minor": 5
}
