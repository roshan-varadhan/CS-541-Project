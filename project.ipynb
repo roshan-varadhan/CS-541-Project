{
 "cells": [
  {
   "cell_type": "code",
   "execution_count": 19,
   "id": "9e216d24",
   "metadata": {},
   "outputs": [],
   "source": [
    "import pandas as pd\n",
    "import os\n",
    "from dotenv import load_dotenv\n",
    "import requests"
   ]
  },
  {
   "cell_type": "code",
   "execution_count": 20,
   "id": "13e78210",
   "metadata": {},
   "outputs": [],
   "source": [
    "# Load sample dataset (Boston housing dataset)\n",
    "url = 'https://raw.githubusercontent.com/jbrownlee/Datasets/master/housing.csv'\n",
    "columns = ['CRIM', 'ZN', 'INDUS', 'CHAS', 'NOX', \n",
    "           'RM', 'AGE', 'DIS', 'RAD', 'TAX', \n",
    "           'PTRATIO', 'B', 'LSTAT', 'MEDV']\n",
    "\n",
    "df = pd.read_csv(url, header=None, names=columns)"
   ]
  },
  {
   "cell_type": "code",
   "execution_count": 21,
   "id": "cd94784e",
   "metadata": {},
   "outputs": [
    {
     "name": "stdout",
     "output_type": "stream",
     "text": [
      "      CRIM    ZN  INDUS  CHAS    NOX     RM   AGE     DIS  RAD    TAX  \\\n",
      "0  0.00632  18.0   2.31     0  0.538    NaN  65.2  4.0900    1  296.0   \n",
      "1  0.02731   0.0   7.07     0  0.469  6.421  78.9  4.9671    2  242.0   \n",
      "2  0.02729   0.0   7.07     0  0.469  7.185  61.1  4.9671    2  242.0   \n",
      "3  0.03237   0.0   2.18     0  0.458  6.998  45.8  6.0622    3  222.0   \n",
      "4  0.06905   0.0   2.18     0  0.458  7.147  54.2  6.0622    3  222.0   \n",
      "\n",
      "   PTRATIO       B  LSTAT  MEDV  \n",
      "0     15.3  396.90   4.98  24.0  \n",
      "1     17.8  396.90   9.14  21.6  \n",
      "2     17.8  392.83   4.03  34.7  \n",
      "3     18.7  394.63   2.94  33.4  \n",
      "4     18.7  396.90   5.33  36.2  \n"
     ]
    }
   ],
   "source": [
    "# Add artificial missing value (for testing purposes)\n",
    "df.loc[0, 'RM'] = None\n",
    "\n",
    "print(df.head())"
   ]
  },
  {
   "cell_type": "code",
   "execution_count": 22,
   "id": "013868f8",
   "metadata": {},
   "outputs": [],
   "source": [
    "load_dotenv()\n",
    "token = os.getenv(\"HF_TOKEN\")\n",
    "\n",
    "API_URL = \"https://api-inference.huggingface.co/models/HuggingFaceH4/zephyr-7b-beta\"\n",
    "headers = {\"Authorization\": f\"Bearer {token}\"}\n",
    "\n",
    "# Load free Hugging Face model\n",
    "# pipe = pipeline(\"text-generation\",\n",
    "#                 model=\"HuggingFaceH4/zephyr-7b-beta\",\n",
    "#                 token=token)"
   ]
  },
  {
   "cell_type": "code",
   "execution_count": 23,
   "id": "a7698132",
   "metadata": {},
   "outputs": [],
   "source": [
    "def create_prompt(row):\n",
    "    prompt = f\"\"\"\n",
    "    Analyze the following data row and identify any data quality issues, such as missing or inconsistent values. \n",
    "    Clearly state each issue and its location.\n",
    "\n",
    "    Data row:\n",
    "    {row.to_dict()}\n",
    "\n",
    "    Issues:\n",
    "    \"\"\"\n",
    "    return prompt\n"
   ]
  },
  {
   "cell_type": "code",
   "execution_count": 24,
   "id": "0a0ead1e",
   "metadata": {},
   "outputs": [],
   "source": [
    "def query_hf(payload):\n",
    "    response = requests.post(API_URL, headers=headers, json=payload)\n",
    "    return response.json()"
   ]
  },
  {
   "cell_type": "code",
   "execution_count": 25,
   "id": "6cee8b13",
   "metadata": {},
   "outputs": [],
   "source": [
    "def check_quality(row):\n",
    "    prompt = create_prompt(row)\n",
    "    output = query_hf({\n",
    "        \"inputs\": prompt,\n",
    "        \"parameters\": {\"max_new_tokens\": 100, \"temperature\": 0.2}\n",
    "    })\n",
    "\n",
    "    generated_text = output[0]['generated_text']\n",
    "    issues = generated_text.split('Issues:')[-1].strip()\n",
    "    return issues"
   ]
  },
  {
   "cell_type": "code",
   "execution_count": 26,
   "id": "51df2688",
   "metadata": {},
   "outputs": [
    {
     "name": "stdout",
     "output_type": "stream",
     "text": [
      "Detected issues: 1. Missing value for 'RM' (located at index 'RM')\n",
      "    2. Inconsistent value for 'RM' in previous rows (this data row is part of a larger dataset, and 'RM' values for nearby rows are not missing)\n",
      "    3. Inconsistent value for 'MEDV' (24.0 is significantly lower than the expected median value for this area)\n",
      "    4. Inconsistent value for 'LSTAT' (4\n"
     ]
    }
   ],
   "source": [
    "# Test with first row\n",
    "row = df.iloc[0]\n",
    "issues = check_quality(row)\n",
    "print(\"Detected issues:\", issues)"
   ]
  },
  {
   "cell_type": "code",
   "execution_count": 27,
   "id": "72a4d2bb",
   "metadata": {},
   "outputs": [
    {
     "name": "stdout",
     "output_type": "stream",
     "text": [
      "Row 0:\n",
      "1. Missing value for 'RM' (located at index 'RM')\n",
      "    2. Inconsistent value for 'RM' in previous rows (this data row is part of a larger dataset, and 'RM' values for nearby rows are not missing)\n",
      "    3. Inconsistent value for 'MEDV' (24.0 is significantly lower than the expected median value for this area)\n",
      "    4. Inconsistent value for 'LSTAT' (4\n",
      "----------------------------------------\n",
      "Row 1:\n",
      "1. Missing value: 'ZN' is missing a value. This is located in the second column of the dictionary.\n",
      "    2. Inconsistent value: 'CHAS' has a value of 0.0, but this value is not consistent with the other data points in the dataset. 'CHAS' is a binary feature that should have a value of either 0 or 1. This is located in the third column of the dictionary.\n",
      "    3. Miss\n",
      "----------------------------------------\n",
      "Row 2:\n",
      "1. Missing value: 'ZN' is missing a value. This is located in the second column of the dictionary.\n",
      "    2. Inconsistent value: 'CHAS' should be either 0 or 1, but it is currently 0.0. This is located in the third column of the dictionary.\n",
      "    3. Inconsistent value: 'NOX' should be a numerical value, but it is currently a decimal value (0.469\n",
      "----------------------------------------\n",
      "Row 3:\n",
      "1. Missing value: 'ZN' is missing a value. This is located in the second column of the dictionary.\n",
      "    2. Inconsistent value: 'B' has an inconsistent value. While 'B' is a numerical value in the rest of the dataset, it is represented as a string in this row. This is located in the 14th column of the dictionary.\n",
      "    3. Inconsistent value: 'LSTAT' has an inconsistent\n",
      "----------------------------------------\n",
      "Row 4:\n",
      "1. Missing value: 'ZN' is missing a value. This is located in the second column of the dictionary.\n",
      "    2. Inconsistent value: 'CHAS' has a value of 0.0, which is unexpected as the 'CHAS' variable represents whether a particular street is in a chasm-prone area. This is located in the third column of the dictionary.\n",
      "    3. Inconsistent value: 'NOX' has a value\n",
      "----------------------------------------\n",
      "Row 5:\n",
      "1. Missing value: 'ZN' is missing a value. This is located at the second index of the dictionary.\n",
      "    2. Inconsistent value: 'CHAS' should be either 0 or 1, but it is currently 0.0. This is located at the fourth index of the dictionary.\n",
      "    3. Inconsistent value: 'NOX' should be a numerical value, but it is currently a decimal value (0.458\n",
      "----------------------------------------\n",
      "Row 6:\n",
      "1. Missing value: 'CHAS' should be a binary value (0 or 1) indicating whether a neighborhood is in a chasm or not. However, the value is 0.0, which is not a valid binary value. Location: 'CHAS' column.\n",
      "    2. Inconsistent value: 'RM' should be a measure of the average number of rooms per dwelling. However, the value is 6.012, which is not\n",
      "----------------------------------------\n",
      "Row 7:\n",
      "1. Missing value: 'CHAS' should be a binary value (0 or 1) indicating whether a particular property is located in a region with a significant amount of Charles River pollution. In this case, the value is 0.0, which is not a valid binary value.\n",
      "    2. Inconsistent value: 'MEDV' should be a continuous numerical value representing the median value of owner-occupied homes in a given census tract. In this case, the\n",
      "----------------------------------------\n",
      "Row 8:\n",
      "1. Missing value: 'CHAS' should be a binary value (0 or 1) indicating whether a given property is located in an area prone to flooding. However, this value is 0.0, which is not a valid binary value. This issue is located in the 'CHAS' key.\n",
      "    2. Inconsistent value: 'AGE' should be the median value of houses in a given area, but this value is 100.\n",
      "----------------------------------------\n",
      "Row 9:\n",
      "1. Missing value: 'CHAS' should be a binary variable (0 or 1) indicating whether a given property is located in a region with a significant amount of Charles River pollution. However, the value for 'CHAS' in this row is 0.0, which is not a valid binary value. This could potentially cause issues in any analysis that relies on the 'CHAS' variable.\n",
      "    2. Inconsistent value: 'MEDV' should be\n",
      "----------------------------------------\n"
     ]
    }
   ],
   "source": [
    "import time\n",
    "\n",
    "for idx, row in df.head(10).iterrows():\n",
    "    print(f\"Row {idx}:\")\n",
    "    print(check_quality(row))\n",
    "    print('-' * 40)\n",
    "    time.sleep(1)  # to avoid rate limits\n"
   ]
  },
  {
   "cell_type": "code",
   "execution_count": 28,
   "id": "fcd70d39",
   "metadata": {},
   "outputs": [],
   "source": [
    "results = []\n",
    "\n",
    "for idx, row in df.head(10).iterrows():\n",
    "    issues = check_quality(row)\n",
    "    results.append({'index': idx, 'issues': issues})\n",
    "    time.sleep(1)\n",
    "\n",
    "results_df = pd.DataFrame(results)\n",
    "results_df.to_csv(\"llm_data_quality_results.csv\", index=False)\n"
   ]
  },
  {
   "cell_type": "code",
   "execution_count": 29,
   "id": "c20c0c58",
   "metadata": {},
   "outputs": [
    {
     "name": "stdout",
     "output_type": "stream",
     "text": [
      "        CRIM    ZN  INDUS  CHAS    NOX     RM   AGE     DIS  RAD    TAX  \\\n",
      "0    0.00632  18.0   2.31     0  0.538    NaN  65.2  4.0900    1  296.0   \n",
      "1    0.02731   0.0   7.07     0  0.469  6.421  78.9  4.9671    2  242.0   \n",
      "2    0.02729   0.0   7.07     0  0.469  7.185  61.1  4.9671    2  242.0   \n",
      "3    0.03237   0.0   2.18     0  0.458  6.998  45.8  6.0622    3  222.0   \n",
      "4    0.06905   0.0   2.18     0  0.458  7.147  54.2  6.0622    3  222.0   \n",
      "..       ...   ...    ...   ...    ...    ...   ...     ...  ...    ...   \n",
      "501  0.06263   0.0  11.93     0  0.573  6.593  69.1  2.4786    1  273.0   \n",
      "502  0.04527   0.0  11.93     0  0.573  6.120  76.7  2.2875    1  273.0   \n",
      "503  0.06076   0.0  11.93     0  0.573  6.976  91.0  2.1675    1  273.0   \n",
      "504  0.10959   0.0  11.93     0  0.573  6.794  89.3  2.3889    1  273.0   \n",
      "505  0.04741   0.0  11.93     0  0.573  6.030  80.8  2.5050    1  273.0   \n",
      "\n",
      "     PTRATIO       B  LSTAT  MEDV  anomaly  \n",
      "0       15.3  396.90   4.98  24.0        1  \n",
      "1       17.8  396.90   9.14  21.6        1  \n",
      "2       17.8  392.83   4.03  34.7        1  \n",
      "3       18.7  394.63   2.94  33.4        1  \n",
      "4       18.7  396.90   5.33  36.2        1  \n",
      "..       ...     ...    ...   ...      ...  \n",
      "501     21.0  391.99   9.67  22.4        1  \n",
      "502     21.0  396.90   9.08  20.6        1  \n",
      "503     21.0  396.90   5.64  23.9        1  \n",
      "504     21.0  393.45   6.48  22.0        1  \n",
      "505     21.0  396.90   7.88  11.9        1  \n",
      "\n",
      "[506 rows x 15 columns]\n"
     ]
    }
   ],
   "source": [
    "from sklearn.ensemble import IsolationForest\n",
    "\n",
    "clf = IsolationForest(contamination=0.1)\n",
    "df_numeric = df.select_dtypes(include=['float64', 'int'])\n",
    "df['anomaly'] = clf.fit_predict(df_numeric)\n",
    "\n",
    "\n",
    "print(df)\n"
   ]
  },
  {
   "cell_type": "code",
   "execution_count": 30,
   "id": "7c55b4f2",
   "metadata": {},
   "outputs": [
    {
     "name": "stdout",
     "output_type": "stream",
     "text": [
      "         CRIM    ZN  INDUS  CHAS     NOX     RM    AGE      DIS  RAD    TAX  \\\n",
      "141   1.62864   0.0  21.89     0  0.6240  5.019  100.0   1.4394    4  437.0   \n",
      "142   3.32105   0.0  19.58     1  0.8710  5.403  100.0   1.3216    5  403.0   \n",
      "143   4.09740   0.0  19.58     0  0.8710  5.468  100.0   1.4118    5  403.0   \n",
      "144   2.77974   0.0  19.58     0  0.8710  4.903   97.8   1.3459    5  403.0   \n",
      "145   2.37934   0.0  19.58     0  0.8710  6.130  100.0   1.4191    5  403.0   \n",
      "146   2.15505   0.0  19.58     0  0.8710  5.628  100.0   1.5166    5  403.0   \n",
      "147   2.36862   0.0  19.58     0  0.8710  4.926   95.7   1.4608    5  403.0   \n",
      "148   2.33099   0.0  19.58     0  0.8710  5.186   93.8   1.5296    5  403.0   \n",
      "152   1.12658   0.0  19.58     1  0.8710  5.012   88.0   1.6102    5  403.0   \n",
      "154   1.41385   0.0  19.58     1  0.8710  6.129   96.0   1.7494    5  403.0   \n",
      "155   3.53501   0.0  19.58     1  0.8710  6.152   82.6   1.7455    5  403.0   \n",
      "156   2.44668   0.0  19.58     0  0.8710  5.272   94.0   1.7364    5  403.0   \n",
      "161   1.46336   0.0  19.58     0  0.6050  7.489   90.8   1.9709    5  403.0   \n",
      "162   1.83377   0.0  19.58     1  0.6050  7.802   98.2   2.0407    5  403.0   \n",
      "163   1.51902   0.0  19.58     1  0.6050  8.375   93.9   2.1620    5  403.0   \n",
      "166   2.01019   0.0  19.58     0  0.6050  7.929   96.2   2.0459    5  403.0   \n",
      "195   0.01381  80.0   0.46     0  0.4220  7.875   32.0   5.6484    4  255.0   \n",
      "197   0.04666  80.0   1.52     0  0.4040  7.107   36.6   7.3090    2  329.0   \n",
      "202   0.02177  82.5   2.03     0  0.4150  7.610   15.7   6.2700    2  348.0   \n",
      "203   0.03510  95.0   2.68     0  0.4161  7.853   33.2   5.1180    4  224.0   \n",
      "204   0.02009  95.0   2.68     0  0.4161  8.034   31.9   5.1180    4  224.0   \n",
      "228   0.29819   0.0   6.20     0  0.5040  7.686   17.0   3.3751    8  307.0   \n",
      "253   0.36894  22.0   5.86     0  0.4310  8.259    8.4   8.9067    7  330.0   \n",
      "256   0.01538  90.0   3.75     0  0.3940  7.454   34.2   6.3361    3  244.0   \n",
      "257   0.61154  20.0   3.97     0  0.6470  8.704   86.9   1.8010    5  264.0   \n",
      "262   0.52014  20.0   3.97     0  0.6470  8.398   91.5   2.2885    5  264.0   \n",
      "267   0.57834  20.0   3.97     0  0.5750  8.297   67.0   2.4216    5  264.0   \n",
      "282   0.06129  20.0   3.33     1  0.4429  7.645   49.7   5.2119    5  216.0   \n",
      "283   0.01501  90.0   1.21     1  0.4010  7.923   24.8   5.8850    1  198.0   \n",
      "286   0.01965  80.0   1.76     0  0.3850  6.230   31.5   9.0892    1  241.0   \n",
      "353   0.01709  90.0   2.02     0  0.4100  6.728   36.1  12.1265    5  187.0   \n",
      "354   0.04301  80.0   1.91     0  0.4130  5.663   21.9  10.5857    4  334.0   \n",
      "355   0.10659  80.0   1.91     0  0.4130  5.936   19.5  10.5857    4  334.0   \n",
      "358   5.20177   0.0  18.10     1  0.7700  6.127   83.4   2.7227   24  666.0   \n",
      "364   3.47428   0.0  18.10     1  0.7180  8.780   82.9   1.9047   24  666.0   \n",
      "367  13.52220   0.0  18.10     0  0.6310  3.863  100.0   1.5106   24  666.0   \n",
      "368   4.89822   0.0  18.10     0  0.6310  4.970  100.0   1.3325   24  666.0   \n",
      "369   5.66998   0.0  18.10     1  0.6310  6.683   96.8   1.3567   24  666.0   \n",
      "370   6.53876   0.0  18.10     1  0.6310  7.016   97.5   1.2024   24  666.0   \n",
      "372   8.26725   0.0  18.10     1  0.6680  5.875   89.6   1.1296   24  666.0   \n",
      "374  18.49820   0.0  18.10     0  0.6680  4.138  100.0   1.1370   24  666.0   \n",
      "380  88.97620   0.0  18.10     0  0.6710  6.968   91.9   1.4165   24  666.0   \n",
      "398  38.35180   0.0  18.10     0  0.6930  5.453  100.0   1.4896   24  666.0   \n",
      "405  67.92080   0.0  18.10     0  0.6930  5.683  100.0   1.4254   24  666.0   \n",
      "410  51.13580   0.0  18.10     0  0.5970  5.757  100.0   1.4130   24  666.0   \n",
      "412  18.81100   0.0  18.10     0  0.5970  4.628  100.0   1.5539   24  666.0   \n",
      "414  45.74610   0.0  18.10     0  0.6930  4.519  100.0   1.6582   24  666.0   \n",
      "418  73.53410   0.0  18.10     0  0.6790  5.957  100.0   1.8026   24  666.0   \n",
      "438  13.67810   0.0  18.10     0  0.7400  5.935   87.9   1.8206   24  666.0   \n",
      "489   0.18337   0.0  27.74     0  0.6090  5.414   98.3   1.7554    4  711.0   \n",
      "490   0.20746   0.0  27.74     0  0.6090  5.093   98.0   1.8226    4  711.0   \n",
      "\n",
      "     PTRATIO       B  LSTAT  MEDV  anomaly  \n",
      "141     21.2  396.90  34.41  14.4       -1  \n",
      "142     14.7  396.90  26.82  13.4       -1  \n",
      "143     14.7  396.90  26.42  15.6       -1  \n",
      "144     14.7  396.90  29.29  11.8       -1  \n",
      "145     14.7  172.91  27.80  13.8       -1  \n",
      "146     14.7  169.27  16.65  15.6       -1  \n",
      "147     14.7  391.71  29.53  14.6       -1  \n",
      "148     14.7  356.99  28.32  17.8       -1  \n",
      "152     14.7  343.28  12.12  15.3       -1  \n",
      "154     14.7  321.02  15.12  17.0       -1  \n",
      "155     14.7   88.01  15.02  15.6       -1  \n",
      "156     14.7   88.63  16.14  13.1       -1  \n",
      "161     14.7  374.43   1.73  50.0       -1  \n",
      "162     14.7  389.61   1.92  50.0       -1  \n",
      "163     14.7  388.45   3.32  50.0       -1  \n",
      "166     14.7  369.30   3.70  50.0       -1  \n",
      "195     14.4  394.23   2.97  50.0       -1  \n",
      "197     12.6  354.31   8.61  30.3       -1  \n",
      "202     14.7  395.38   3.11  42.3       -1  \n",
      "203     14.7  392.78   3.81  48.5       -1  \n",
      "204     14.7  390.55   2.88  50.0       -1  \n",
      "228     17.4  377.51   3.92  46.7       -1  \n",
      "253     19.1  396.90   3.54  42.8       -1  \n",
      "256     15.9  386.34   3.11  44.0       -1  \n",
      "257     13.0  389.70   5.12  50.0       -1  \n",
      "262     13.0  386.86   5.91  48.8       -1  \n",
      "267     13.0  384.54   7.44  50.0       -1  \n",
      "282     14.9  377.07   3.01  46.0       -1  \n",
      "283     13.6  395.52   3.16  50.0       -1  \n",
      "286     18.2  341.60  12.93  20.1       -1  \n",
      "353     17.0  384.46   4.50  30.1       -1  \n",
      "354     22.0  382.80   8.05  18.2       -1  \n",
      "355     22.0  376.04   5.57  20.6       -1  \n",
      "358     20.2  395.43  11.48  22.7       -1  \n",
      "364     20.2  354.55   5.29  21.9       -1  \n",
      "367     20.2  131.42  13.33  23.1       -1  \n",
      "368     20.2  375.52   3.26  50.0       -1  \n",
      "369     20.2  375.33   3.73  50.0       -1  \n",
      "370     20.2  392.05   2.96  50.0       -1  \n",
      "372     20.2  347.88   8.88  50.0       -1  \n",
      "374     20.2  396.90  37.97  13.8       -1  \n",
      "380     20.2  396.90  17.21  10.4       -1  \n",
      "398     20.2  396.90  30.59   5.0       -1  \n",
      "405     20.2  384.97  22.98   5.0       -1  \n",
      "410     20.2    2.60  10.11  15.0       -1  \n",
      "412     20.2   28.79  34.37  17.9       -1  \n",
      "414     20.2   88.27  36.98   7.0       -1  \n",
      "418     20.2   16.45  20.62   8.8       -1  \n",
      "438     20.2   68.95  34.02   8.4       -1  \n",
      "489     20.1  344.05  23.97   7.0       -1  \n",
      "490     20.1  318.43  29.68   8.1       -1  \n"
     ]
    }
   ],
   "source": [
    "print(df[df['anomaly'] == -1])\n"
   ]
  }
 ],
 "metadata": {
  "kernelspec": {
   "display_name": "llm-data-quality",
   "language": "python",
   "name": "python3"
  },
  "language_info": {
   "codemirror_mode": {
    "name": "ipython",
    "version": 3
   },
   "file_extension": ".py",
   "mimetype": "text/x-python",
   "name": "python",
   "nbconvert_exporter": "python",
   "pygments_lexer": "ipython3",
   "version": "3.13.2"
  }
 },
 "nbformat": 4,
 "nbformat_minor": 5
}
